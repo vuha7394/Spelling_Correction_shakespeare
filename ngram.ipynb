{
 "cells": [
  {
   "cell_type": "code",
   "execution_count": 1,
   "id": "initial_id",
   "metadata": {
    "collapsed": true
   },
   "outputs": [],
   "source": [
    "import spacy\n",
    "import numpy as np\n",
    "import re\n",
    "import dill\n",
    "from collections import defaultdict\n",
    "from sklearn.datasets import fetch_20newsgroups\n",
    "import nltk\n",
    "from tqdm import tqdm"
   ]
  },
  {
   "cell_type": "code",
   "execution_count": 2,
   "id": "161117ec",
   "metadata": {},
   "outputs": [],
   "source": [
    "# Make sure that the spacy english model is installed\n",
    "if not spacy.util.is_package(\"en_core_web_sm\"):\n",
    "    spacy.cli.download(\"en_core_web_sm\")\n",
    "    \n",
    "# Load the english model\n",
    "nlp = spacy.load(\"en_core_web_sm\", disable=[\"ner\"])"
   ]
  },
  {
   "cell_type": "markdown",
   "id": "9efe01e5",
   "metadata": {},
   "source": [
    "## N-Gram"
   ]
  },
  {
   "cell_type": "code",
   "execution_count": 3,
   "id": "9f9ba3dc",
   "metadata": {},
   "outputs": [],
   "source": [
    "# Define the nGram function\n",
    "def nGram(doc_string_or_list, n, docIsAlreadyTokenized):\n",
    "    \"\"\"\n",
    "    This function takes a string or list of tokens and returns a list of nGrams.\n",
    "    \n",
    "    Args:\n",
    "        doc_string_or_list (str or list): The string or list of tokens to be nGrammed\n",
    "        n (int): The number of tokens per nGram\n",
    "        docIsAlreadyTokenized (bool): Whether or not the doc is already tokenized\n",
    "        \n",
    "    Returns:\n",
    "        ngrams (list): A list of nGrams\n",
    "    \"\"\"\n",
    "    \n",
    "    doc = doc_string_or_list\n",
    "    \n",
    "    # If the doc is not already tokenized, tokenize it\n",
    "    if not docIsAlreadyTokenized:\n",
    "        doc = nlp(doc_string_or_list)\n",
    "        doc = [token.text for token in doc if not token.is_punct and not token.is_space]\n",
    "        \n",
    "    # Lowercase all the tokens\n",
    "    doc = [token.lower() for token in doc]\n",
    "    \n",
    "    # Create the nGrams\n",
    "    ngrams = []\n",
    "    for i in range(len(doc) - n + 1):\n",
    "        ngrams.append(doc[i:i+n])\n",
    "        \n",
    "    return ngrams"
   ]
  },
  {
   "cell_type": "code",
   "execution_count": 6,
   "id": "0b9150aa",
   "metadata": {},
   "outputs": [
    {
     "name": "stdout",
     "output_type": "stream",
     "text": [
      "[['do', \"n't\"], [\"n't\", 'stop'], ['stop', 'me'], ['me', 'now'], ['now', 'i'], ['i', \"'m\"], [\"'m\", 'having'], ['having', 'such'], ['such', 'a'], ['a', 'good'], ['good', 'time'], ['time', 'i'], ['i', \"'m\"], [\"'m\", 'having'], ['having', 'a'], ['a', 'ball']]\n"
     ]
    }
   ],
   "source": [
    "# Test the function\n",
    "doc = \"Don't stop me now, I'm having such a good time, I'm having a ball\"\n",
    "print(nGram(doc, 2, False))"
   ]
  },
  {
   "cell_type": "code",
   "execution_count": 7,
   "id": "7e904797",
   "metadata": {},
   "outputs": [],
   "source": [
    "# Create a function to build the N-Gram model\n",
    "def build_model(corpus, n, docIsAlreadyTokenized):\n",
    "    \"\"\"\n",
    "    This function takes a corpus and returns a N-Gram model.\n",
    "    \n",
    "    Args:\n",
    "        corpus (list): A list of documents\n",
    "        n (int): The number of tokens per nGram\n",
    "        docIsAlreadyTokenized (bool): Whether or not the doc is already tokenized\n",
    "        \n",
    "    Returns:\n",
    "        model (defaultdict): A N-Gram model\n",
    "    \"\"\"\n",
    "    \n",
    "    # Create a placeholder for the model\n",
    "    model = defaultdict(lambda: defaultdict(lambda: 0))\n",
    "    \n",
    "    # Loop through all the documents\n",
    "    print(\"Building the model...\")\n",
    "    for doc in tqdm(corpus):\n",
    "        # Get the nGrams\n",
    "        ngrams = nGram(doc, n, docIsAlreadyTokenized)\n",
    "        \n",
    "        # Update the model\n",
    "        for ngram in ngrams:\n",
    "            ngram = tuple(ngram)\n",
    "            model[ngram[:-1]][ngram[-1]] += 1\n",
    "            \n",
    "    # Transform the counts to probabilities\n",
    "    print(\"Transforming the counts to probabilities...\")\n",
    "    for previous_tokens in tqdm(model):\n",
    "        # Get the total count of this previous token\n",
    "        total_count = float(sum(model[previous_tokens].values()))\n",
    "        \n",
    "        # Loop through all the next tokens\n",
    "        for next_token in model[previous_tokens]:\n",
    "            # Normalize the count\n",
    "            model[previous_tokens][next_token] /= total_count\n",
    "\n",
    "    return model"
   ]
  },
  {
   "cell_type": "code",
   "execution_count": 8,
   "id": "b8663a85",
   "metadata": {},
   "outputs": [
    {
     "name": "stdout",
     "output_type": "stream",
     "text": [
      "Building the model...\n"
     ]
    },
    {
     "name": "stderr",
     "output_type": "stream",
     "text": [
      "100%|██████████| 1/1 [00:00<00:00, 226.23it/s]\n"
     ]
    },
    {
     "name": "stdout",
     "output_type": "stream",
     "text": [
      "Transforming the counts to probabilities...\n"
     ]
    },
    {
     "name": "stderr",
     "output_type": "stream",
     "text": [
      "100%|██████████| 12/12 [00:00<00:00, 165564.63it/s]"
     ]
    },
    {
     "name": "stdout",
     "output_type": "stream",
     "text": [
      "('do',) n't 1.0\n",
      "(\"n't\",) stop 1.0\n",
      "('stop',) me 1.0\n",
      "('me',) now 1.0\n",
      "('now',) i 1.0\n",
      "('i',) 'm 1.0\n",
      "(\"'m\",) having 1.0\n",
      "('having',) such 0.5\n",
      "('having',) a 0.5\n",
      "('such',) a 1.0\n",
      "('a',) good 0.5\n",
      "('a',) ball 0.5\n",
      "('good',) time 1.0\n",
      "('time',) i 1.0\n"
     ]
    },
    {
     "name": "stderr",
     "output_type": "stream",
     "text": [
      "\n"
     ]
    }
   ],
   "source": [
    "# Test the function\n",
    "corpus = [\"Don't stop me now, I'm having such a good time, I'm having a ball\"]\n",
    "model = build_model(corpus, 2, False)\n",
    "\n",
    "# Print the model to see what it looks like\n",
    "for previous_tokens in model:\n",
    "    for next_token in model[previous_tokens]:\n",
    "        print(previous_tokens, next_token, model[previous_tokens][next_token])"
   ]
  },
  {
   "cell_type": "code",
   "execution_count": 9,
   "id": "6952ed2f",
   "metadata": {},
   "outputs": [],
   "source": [
    "def save_model(model, filename):\n",
    "    \"\"\"\n",
    "    This function saves a model to a file.\n",
    "\n",
    "    Args:\n",
    "        model (defaultdict): The model to be saved\n",
    "        filename (str): The filename of the file to be saved\n",
    "    \"\"\"\n",
    "    \n",
    "    with open(filename, 'wb') as f:\n",
    "        dill.dump(model, f)"
   ]
  },
  {
   "cell_type": "code",
   "execution_count": 10,
   "id": "f1570893",
   "metadata": {},
   "outputs": [],
   "source": [
    "def load_model(filename):\n",
    "    \"\"\"\n",
    "    This function loads a model from a file.\n",
    "    \n",
    "    Args:\n",
    "        filename (str): The filename of the file to be loaded\n",
    "        \n",
    "    Returns:\n",
    "        model (defaultdict): The loaded model\n",
    "    \"\"\"\n",
    "    \n",
    "    with open(filename, 'rb') as f:\n",
    "        model = dill.load(f)\n",
    "        \n",
    "    return model"
   ]
  },
  {
   "cell_type": "code",
   "execution_count": 11,
   "id": "8d4bdc49",
   "metadata": {},
   "outputs": [],
   "source": [
    "# Save the model\n",
    "save_model(model, 'ngram_model.dill')"
   ]
  },
  {
   "cell_type": "code",
   "execution_count": 12,
   "id": "9dc340d6",
   "metadata": {},
   "outputs": [],
   "source": [
    "# Load the model\n",
    "dill_model = load_model('ngram_model.dill')"
   ]
  },
  {
   "cell_type": "code",
   "execution_count": 13,
   "id": "2a0931c7",
   "metadata": {},
   "outputs": [
    {
     "name": "stdout",
     "output_type": "stream",
     "text": [
      "('do',) n't 1.0\n",
      "(\"n't\",) stop 1.0\n",
      "('stop',) me 1.0\n",
      "('me',) now 1.0\n",
      "('now',) i 1.0\n",
      "('i',) 'm 1.0\n",
      "(\"'m\",) having 1.0\n",
      "('having',) such 0.5\n",
      "('having',) a 0.5\n",
      "('such',) a 1.0\n",
      "('a',) good 0.5\n",
      "('a',) ball 0.5\n",
      "('good',) time 1.0\n",
      "('time',) i 1.0\n"
     ]
    }
   ],
   "source": [
    "# Print the model to see what it looks like\n",
    "for previous_tokens in dill_model:\n",
    "    for next_token in dill_model[previous_tokens]:\n",
    "        print(previous_tokens, next_token, dill_model[previous_tokens][next_token])"
   ]
  },
  {
   "cell_type": "markdown",
   "id": "9db1610e",
   "metadata": {},
   "source": [
    "### The language model with a bigger dataset"
   ]
  },
  {
   "cell_type": "markdown",
   "id": "25e8025f",
   "metadata": {},
   "source": []
  }
 ],
 "metadata": {
  "kernelspec": {
   "display_name": "Python 3",
   "language": "python",
   "name": "python3"
  },
  "language_info": {
   "codemirror_mode": {
    "name": "ipython",
    "version": 3
   },
   "file_extension": ".py",
   "mimetype": "text/x-python",
   "name": "python",
   "nbconvert_exporter": "python",
   "pygments_lexer": "ipython3",
   "version": "3.10.13"
  }
 },
 "nbformat": 4,
 "nbformat_minor": 5
}
